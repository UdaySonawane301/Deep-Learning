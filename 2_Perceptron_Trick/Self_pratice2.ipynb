{
 "cells": [
  {
   "cell_type": "code",
   "execution_count": 36,
   "id": "7431bc27-5463-41c9-90e8-d26e9947d7cb",
   "metadata": {},
   "outputs": [],
   "source": [
    "import numpy as np\n",
    "import matplotlib.pyplot as plt\n",
    "import pandas as pd"
   ]
  },
  {
   "cell_type": "code",
   "execution_count": 37,
   "id": "1b499718-5aff-4ec8-adcb-3fc763abfe71",
   "metadata": {},
   "outputs": [],
   "source": [
    "data = {\n",
    "    'x': [2.5, 3.0, 3.2, 2.8, 1.2, 0.5, 1.0, 0.8, 3.5, 2.2, 0.6, 1.3],\n",
    "    'y': [2.1, 1.8, 2.3, 2.7, 0.7, 1.0, 1.5, 0.6, 2.0, 0.9, 1.3, 0.5],\n",
    "    'label': [1, 1, 1, 1, 0, 0, 0, 0, 1, 1, 0, 0]\n",
    "}\n",
    "df = pd.DataFrame(data)"
   ]
  },
  {
   "cell_type": "code",
   "execution_count": 38,
   "id": "37995d2f-7d3d-4d95-8490-42d14d8f315b",
   "metadata": {},
   "outputs": [
    {
     "data": {
      "text/html": [
       "<div>\n",
       "<style scoped>\n",
       "    .dataframe tbody tr th:only-of-type {\n",
       "        vertical-align: middle;\n",
       "    }\n",
       "\n",
       "    .dataframe tbody tr th {\n",
       "        vertical-align: top;\n",
       "    }\n",
       "\n",
       "    .dataframe thead th {\n",
       "        text-align: right;\n",
       "    }\n",
       "</style>\n",
       "<table border=\"1\" class=\"dataframe\">\n",
       "  <thead>\n",
       "    <tr style=\"text-align: right;\">\n",
       "      <th></th>\n",
       "      <th>x</th>\n",
       "      <th>y</th>\n",
       "      <th>label</th>\n",
       "    </tr>\n",
       "  </thead>\n",
       "  <tbody>\n",
       "    <tr>\n",
       "      <th>0</th>\n",
       "      <td>2.5</td>\n",
       "      <td>2.1</td>\n",
       "      <td>1</td>\n",
       "    </tr>\n",
       "    <tr>\n",
       "      <th>1</th>\n",
       "      <td>3.0</td>\n",
       "      <td>1.8</td>\n",
       "      <td>1</td>\n",
       "    </tr>\n",
       "    <tr>\n",
       "      <th>2</th>\n",
       "      <td>3.2</td>\n",
       "      <td>2.3</td>\n",
       "      <td>1</td>\n",
       "    </tr>\n",
       "    <tr>\n",
       "      <th>3</th>\n",
       "      <td>2.8</td>\n",
       "      <td>2.7</td>\n",
       "      <td>1</td>\n",
       "    </tr>\n",
       "    <tr>\n",
       "      <th>4</th>\n",
       "      <td>1.2</td>\n",
       "      <td>0.7</td>\n",
       "      <td>0</td>\n",
       "    </tr>\n",
       "  </tbody>\n",
       "</table>\n",
       "</div>"
      ],
      "text/plain": [
       "     x    y  label\n",
       "0  2.5  2.1      1\n",
       "1  3.0  1.8      1\n",
       "2  3.2  2.3      1\n",
       "3  2.8  2.7      1\n",
       "4  1.2  0.7      0"
      ]
     },
     "execution_count": 38,
     "metadata": {},
     "output_type": "execute_result"
    }
   ],
   "source": [
    "df.head(5)"
   ]
  },
  {
   "cell_type": "code",
   "execution_count": 39,
   "id": "3903a225-85e5-4ae9-bc1e-9b26b3fe661b",
   "metadata": {},
   "outputs": [],
   "source": [
    "x = df[['x', 'y']].values\n",
    "y = df['label'].values"
   ]
  },
  {
   "cell_type": "code",
   "execution_count": 40,
   "id": "d17814b2-c34f-42ed-9e2a-eb53a37dda5e",
   "metadata": {},
   "outputs": [
    {
     "data": {
      "text/plain": [
       "array([[2.5, 2.1],\n",
       "       [3. , 1.8],\n",
       "       [3.2, 2.3],\n",
       "       [2.8, 2.7],\n",
       "       [1.2, 0.7],\n",
       "       [0.5, 1. ],\n",
       "       [1. , 1.5],\n",
       "       [0.8, 0.6],\n",
       "       [3.5, 2. ],\n",
       "       [2.2, 0.9],\n",
       "       [0.6, 1.3],\n",
       "       [1.3, 0.5]])"
      ]
     },
     "execution_count": 40,
     "metadata": {},
     "output_type": "execute_result"
    }
   ],
   "source": [
    "x"
   ]
  },
  {
   "cell_type": "code",
   "execution_count": 41,
   "id": "a147c912-bfe8-443f-aac8-2a5766d00b25",
   "metadata": {},
   "outputs": [
    {
     "data": {
      "text/plain": [
       "<matplotlib.collections.PathCollection at 0x26947929940>"
      ]
     },
     "execution_count": 41,
     "metadata": {},
     "output_type": "execute_result"
    },
    {
     "data": {
      "image/png": "[encoded data removed]",
      "text/plain": [
       "<Figure size 1000x600 with 1 Axes>"
      ]
     },
     "metadata": {},
     "output_type": "display_data"
    }
   ],
   "source": [
    "plt.figure(figsize=(10,6))\n",
    "plt.scatter(x[:,0],x[:,1],c=y,cmap='winter',s=100)"
   ]
  },
  {
   "cell_type": "code",
   "execution_count": 42,
   "id": "49061b54-250c-46c0-af6c-8a47102cbe63",
   "metadata": {},
   "outputs": [],
   "source": [
    "def step(z):\n",
    "    return 1 if z > 0 else 0"
   ]
  },
  {
   "cell_type": "code",
   "execution_count": 43,
   "id": "51cb26ca-630f-4c1a-a2c6-655fa8c66ee6",
   "metadata": {},
   "outputs": [],
   "source": [
    "def perceptron(x, y):\n",
    "    x = np.insert(x, 0, 1, axis=1)  # Add bias column\n",
    "    weights = np.ones(x.shape[1])  # Initialize weights\n",
    "    lr = 0.1\n",
    "\n",
    "    for i in range(1000):\n",
    "        j = np.random.randint(0, len(x))  # Choose valid random index\n",
    "        y_hat = step(np.dot(x[j], weights))\n",
    "        weights = weights + lr * (y[j] - y_hat) * x[j]\n",
    "\n",
    "    return weights[0], weights[1:]\n",
    "\n",
    "\n",
    "\n"
   ]
  },
  {
   "cell_type": "code",
   "execution_count": 44,
   "id": "0234b750-d2b5-4738-9658-cf0e4a5cb080",
   "metadata": {},
   "outputs": [
    {
     "name": "stdout",
     "output_type": "stream",
     "text": [
      "Intercept: -0.3999999999999999\n",
      "Coefficients: [2.40000000e-01 5.55111512e-17]\n"
     ]
    }
   ],
   "source": [
    "intercept_, coef_ = perceptron(x, y)\n",
    "print(\"Intercept:\", intercept_)\n",
    "print(\"Coefficients:\", coef_)"
   ]
  },
  {
   "cell_type": "code",
   "execution_count": 45,
   "id": "fe97f36c-bbf9-47e5-b916-81709e3a5589",
   "metadata": {},
   "outputs": [],
   "source": [
    "m=-(coef_[0]/coef_[1])\n",
    "n=-(intercept_/coef_[1])"
   ]
  },
  {
   "cell_type": "code",
   "execution_count": 46,
   "id": "0aaac4f9-1d45-4648-bb5a-5a334e259e75",
   "metadata": {},
   "outputs": [],
   "source": [
    "x_input = np.linspace(-3,3,100)\n",
    "y_input = m*x_input+n"
   ]
  },
  {
   "cell_type": "code",
   "execution_count": 63,
   "id": "21ba1d68-3950-4dce-9135-b8879cad47ef",
   "metadata": {},
   "outputs": [
    {
     "data": {
      "text/plain": [
       "(0.0, 7.0)"
      ]
     },
     "execution_count": 63,
     "metadata": {},
     "output_type": "execute_result"
    },
    {
     "data": {
      "image/png": "[encoded data removed]",
      "text/plain": [
       "<Figure size 1000x600 with 1 Axes>"
      ]
     },
     "metadata": {},
     "output_type": "display_data"
    }
   ],
   "source": [
    "plt.figure(figsize=(10,6))\n",
    "plt.plot(x_input,y_input,color='red',linewidth=3)\n",
    "plt.scatter(x[:,0],x[:,1],c=y,cmap='winter' ,s=100)\n",
    "plt.ylim(0,7)"
   ]
  },
  {
   "cell_type": "code",
   "execution_count": null,
   "id": "07155c2a-358c-4156-bf4d-26a5f9ad8951",
   "metadata": {},
   "outputs": [],
   "source": []
  }
 ],
 "metadata": {
  "kernelspec": {
   "display_name": "Python 3 (ipykernel)",
   "language": "python",
   "name": "python3"
  },
  "language_info": {
   "codemirror_mode": {
    "name": "ipython",
    "version": 3
   },
   "file_extension": ".py",
   "mimetype": "text/x-python",
   "name": "python",
   "nbconvert_exporter": "python",
   "pygments_lexer": "ipython3",
   "version": "3.12.7"
  }
 },
 "nbformat": 4,
 "nbformat_minor": 5
}
